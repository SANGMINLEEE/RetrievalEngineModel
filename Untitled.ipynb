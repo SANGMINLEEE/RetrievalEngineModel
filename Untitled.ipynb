{
 "cells": [
  {
   "cell_type": "code",
   "execution_count": 2,
   "metadata": {},
   "outputs": [],
   "source": [
    "from konlpy.tag import Twitter\n",
    "import xml.etree.ElementTree as ET\n",
    "import sqlite3\n",
    "\n",
    "twitter=Twitter()\n",
    "\n",
    "def ConnectDB():\n",
    "    global cur\n",
    "    global conn\n",
    "    conn=sqlite3.connect(\"test.db\")\n",
    "    cur=conn.cursor()\n",
    "\n",
    "def testinsert():\n",
    "    global cur,conn\n",
    "    query=\"insert into textdb (title,content) values('df','sdf');\"\n",
    "    cur.execute(query)\n",
    "    conn.commit()\n",
    "    \n",
    "def testselect():\n",
    "    \n",
    "    global cur\n",
    "    query2=\"select id,title from textdb\";\n",
    "    cur.execute(query2)\n",
    "    \n",
    "    rows=cur.fetchall()\n",
    "    for row in rows:\n",
    "        print(row[0])\n",
    "        print(row[1])\n",
    "    \n",
    "    \n",
    "def ParseFile(docpath):\n",
    "    query=\"insert into Textdb (title,content) values(?,?)\"\n",
    "    result=\"\"\n",
    "    global cur\n",
    "    \n",
    "    for i in range(2,3):\n",
    "        document=ET.parse(docpath+str(i)+\".xml\")\n",
    "        root=document.getroot()\n",
    "        for doc in root.iter(\"DOC\"):\n",
    "            title=doc.findtext(\"TITLE\")\n",
    "            text=doc.findtext('TEXT')\n",
    "            cur.execute(query,(title,text))\n",
    "        conn.commit()\n",
    "    \n",
    "    #return list(set(twitter.morphs(result)))\n",
    "\n",
    "def makeVoc(twitterList): #dictionary \n",
    "    with open(\"TwitterVoc.voc\",'w') as wf:\n",
    "        for w in twitterList:\n",
    "            wf.write(w+'\\n')\n",
    "                \n",
    "def Voc_doc():\n",
    "    \n",
    "    voc_list=[]\n",
    "    global cur\n",
    "    query=\"select id,title,content from textdb where id <=10;\"\n",
    "    cur.execute(query)\n",
    "    \n",
    "    rows=cur.fetchall()\n",
    "    for row in rows:\n",
    "        twitter_title=twitter.morphs(row[1])\n",
    "        twitter_text=twitter.morphs(row[2])\n",
    "        voc_list=list(set(twitter_text))\n",
    "        \n",
    "    print(voc_list)\n",
    "\n",
    "def closeDB():\n",
    "    global cur\n",
    "    global conn \n",
    "    cur.close()\n",
    "    conn.close()\n",
    "    \n",
    "def Build_voc(content):\n",
    "    \n",
    "    return list(set(twitter.morphs(content)))\n",
    "\n",
    "\n",
    "    "
   ]
  },
  {
   "cell_type": "code",
   "execution_count": 3,
   "metadata": {},
   "outputs": [
    {
     "name": "stdout",
     "output_type": "stream",
     "text": [
      "['세계', '봉쇄', '급습', '만', '운동', '피렌체', '이미', '내무부', '제노바', '체포', '들', '(', '하고', '주장', '를', '경찰', '시위', '에는', '전문가', '등지', '위해', '과', '1', '공격', '으며', '배치', '병력', '시내', '인터넷', '강화했', '한편', '부터', '개국', '이고리', '.', '>', '주는', '전역', '다고', '열릴', '영국', '파악해', '설득하는', '국무장관', '여명', '장관', '화', '러시아', '된', '임시', '마케도니아', '자', '회담', '으로', '독일', '한', '했지만', '나서', '벌이', 'APAFP', '정상회담', '대책', '도시', '현안', ')', '좌익', '되는', '전후', '일', '20', '역', '회동', '교도소', '문', '물론', '는', '은행', '스페인', '인접', '갖고', '밀라노', '데', '17', '그러나', '앞두고', '체제', '이익', '반세계화', '미국', '하기', '로', '등', '관련', '반', '맥도널드사', '가', '들어갔', '18', '연합', '에서', 'IBRD', '했', '있다', '공식', '도', '통하는', '의', '곳', '놨', '에', '비워', '경계', '던', '대규모', '국제', '다', '논의했', '쇠망치', '별도', '대한', '순찰', '인', '몰려든', '수천', '로부터', '두', '국경', '있어', '이바노프', '4', '자료', '충돌', '마다', '전세계', '신상', '개', '단체', '예상된', '콜린', '명의', '8', '장이', '사이트', '은', '철책', '막기', '체인점', '대비해', '200', '수난', '회의', '겪었', '프랑스', '동원', '또', '미사일방어', '길목', '마련', '여개', '이', '인근', '서류', '이탈리아', 'MD', '닫았', '별장', '항구', '해', '압수', '3', '나폴리', '바이에른', '을', '와', '명', '만찬', '알려졌', '설치했', '대가', '때', '국', '로마', '제공했', '도착해', '사태', '날', '2000', '외무', '것', '열리는', '주요', '6000', 'G', '미', '감금', '당국', '실패한', '삼엄', '.<', '감시', '파월', '공항', '근거지']\n"
     ]
    }
   ],
   "source": [
    "def main():\n",
    "    ConnectDB()\n",
    "    ParseFile(\"textdata/\")\n",
    "    Voc_doc()\n",
    "    closeDB()\n",
    "    \n",
    "if __name__==\"__main__\":\n",
    "    main()"
   ]
  },
  {
   "cell_type": "code",
   "execution_count": null,
   "metadata": {
    "collapsed": true
   },
   "outputs": [],
   "source": []
  },
  {
   "cell_type": "code",
   "execution_count": null,
   "metadata": {
    "collapsed": true
   },
   "outputs": [],
   "source": []
  },
  {
   "cell_type": "code",
   "execution_count": null,
   "metadata": {
    "collapsed": true
   },
   "outputs": [],
   "source": []
  },
  {
   "cell_type": "code",
   "execution_count": null,
   "metadata": {
    "collapsed": true
   },
   "outputs": [],
   "source": []
  }
 ],
 "metadata": {
  "kernelspec": {
   "display_name": "Python 3",
   "language": "python",
   "name": "python3"
  },
  "language_info": {
   "codemirror_mode": {
    "name": "ipython",
    "version": 3
   },
   "file_extension": ".py",
   "mimetype": "text/x-python",
   "name": "python",
   "nbconvert_exporter": "python",
   "pygments_lexer": "ipython3",
   "version": "3.6.2"
  }
 },
 "nbformat": 4,
 "nbformat_minor": 2
}
